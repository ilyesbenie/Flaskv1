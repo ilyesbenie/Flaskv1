{
 "cells": [
  {
   "cell_type": "code",
   "execution_count": null,
   "id": "e5c9464b",
   "metadata": {},
   "outputs": [
    {
     "name": "stdout",
     "output_type": "stream",
     "text": [
      " * Serving Flask app \"__main__\" (lazy loading)\n",
      " * Environment: production\n",
      "   WARNING: This is a development server. Do not use it in a production deployment.\n",
      "   Use a production WSGI server instead.\n",
      " * Debug mode: on\n"
     ]
    },
    {
     "name": "stderr",
     "output_type": "stream",
     "text": [
      " * Running on http://127.0.0.1:5000/ (Press CTRL+C to quit)\n",
      "127.0.0.1 - - [23/Nov/2021 13:15:22] \"\u001b[37mGET / HTTP/1.1\u001b[0m\" 200 -\n",
      "127.0.0.1 - - [23/Nov/2021 13:15:26] \"\u001b[37mPOST /submit HTTP/1.1\u001b[0m\" 200 -\n",
      "127.0.0.1 - - [23/Nov/2021 13:15:26] \"\u001b[37mGET /static/a2496.jpg HTTP/1.1\u001b[0m\" 200 -\n"
     ]
    }
   ],
   "source": [
    "from flask import Flask, render_template, request\n",
    "from keras.preprocessing import image\n",
    "import joblib\n",
    "import cv2\n",
    "\n",
    "app = Flask(__name__)\n",
    "\n",
    "dic = {0 : 'Ippon', 1 : 'Wazari'}\n",
    "\n",
    "model =  joblib.load('score_pred.joblib')\n",
    "\n",
    "def predict_label(img_path):\n",
    "    i = cv2.imread(img_path, cv2.IMREAD_GRAYSCALE)\n",
    "    i = cv2.resize(i, (150, 150)).ravel()\n",
    "    p = model.predict([i])\n",
    "    return dic[p[0]]\n",
    "\n",
    "\n",
    "# routes\n",
    "@app.route(\"/\", methods=['GET', 'POST'])\n",
    "def main():\n",
    "    return render_template(\"Upload.html\")\n",
    "\n",
    "@app.route(\"/submit\", methods = ['GET', 'POST'])\n",
    "def get_output():\n",
    "    if request.method == 'POST':\n",
    "        img = request.files['my_image']\n",
    "\n",
    "        img_path = \"static/\" + img.filename\n",
    "        img.save(img_path)\n",
    "\n",
    "        p = predict_label(img_path)\n",
    "\n",
    "    return render_template(\"Upload.html\", prediction = p, img_path = img_path)\n",
    "\n",
    "\n",
    "if __name__ =='__main__':\n",
    "    app.run(debug = True, use_reloader=False)"
   ]
  }
 ],
 "metadata": {
  "kernelspec": {
   "display_name": "Python 3",
   "language": "python",
   "name": "python3"
  },
  "language_info": {
   "codemirror_mode": {
    "name": "ipython",
    "version": 3
   },
   "file_extension": ".py",
   "mimetype": "text/x-python",
   "name": "python",
   "nbconvert_exporter": "python",
   "pygments_lexer": "ipython3",
   "version": "3.8.8"
  }
 },
 "nbformat": 4,
 "nbformat_minor": 5
}
