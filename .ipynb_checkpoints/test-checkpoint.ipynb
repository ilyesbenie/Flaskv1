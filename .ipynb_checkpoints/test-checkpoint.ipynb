{
 "cells": [
  {
   "cell_type": "code",
   "execution_count": 2,
   "id": "50072a1d",
   "metadata": {},
   "outputs": [
    {
     "ename": "IndentationError",
     "evalue": "unindent does not match any outer indentation level (<tokenize>, line 15)",
     "output_type": "error",
     "traceback": [
      "\u001b[1;36m  File \u001b[1;32m\"<tokenize>\"\u001b[1;36m, line \u001b[1;32m15\u001b[0m\n\u001b[1;33m    i = cv2.resize(i, (IMG_SIZE, IMG_SIZE)).ravel()\u001b[0m\n\u001b[1;37m    ^\u001b[0m\n\u001b[1;31mIndentationError\u001b[0m\u001b[1;31m:\u001b[0m unindent does not match any outer indentation level\n"
     ]
    }
   ],
   "source": [
    "from flask import Flask, render_template, request\n",
    "from keras.preprocessing import image\n",
    "import joblib\n",
    "import cv2\n",
    "\n",
    "app = Flask(__name__)\n",
    "\n",
    "dic = {0 : 'Ippon', 1 : 'Wazari'}\n",
    "\n",
    "model =  joblib.load('score_pred.joblib')\n",
    "\n",
    "\n",
    "def create_gesture_data(DIR, IMG_SIZE):                                                    \n",
    "    CATEGORIES = [\"Ippon\", \"Wazari\"]                                       # Setup list of available categories   \n",
    "\n",
    "    images = []\n",
    "    imageData = []\n",
    "    targets = []\n",
    "\n",
    "    for category in CATEGORIES:\n",
    "        path = os.path.join(DIR, category)\n",
    "        class_num = CATEGORIES.index(category)\n",
    "        for img in os.listdir(path):\n",
    "            img_array = cv2.imread(os.path.join(path, img), cv2.IMREAD_GRAYSCALE)\n",
    "            new_array = cv2.resize(img_array, (IMG_SIZE, IMG_SIZE)).ravel()\n",
    "            images.append(img_array)\n",
    "            imageData.append(new_array)\n",
    "\n",
    "images, imageData , targets = create_gesture_data(path, 150)\n",
    "# routes\n",
    "@app.route(\"/\", methods=['GET', 'POST'])\n",
    "def main():\n",
    "\treturn render_template(\"Upload.html\")\n",
    "\n",
    "@app.route(\"/about\")\n",
    "def about_page():\n",
    "\treturn \"Please subscribe  Artificial Intelligence Hub..!!!\"\n",
    "\n",
    "@app.route(\"/submit\", methods = ['GET', 'POST'])\n",
    "def get_output():\n",
    "\tif request.method == 'POST':\n",
    "\t\timg = request.files['my_image']\n",
    "\n",
    "\t\timg_path = \"static/\" + img.filename\t\n",
    "\t\timg.save(img_path)\n",
    "\n",
    "\t\tp = predict_label(img_path)\n",
    "\n",
    "\treturn render_template(\"Upload.html\", prediction = p, img_path = img_path)\n",
    "\n",
    "\n",
    "if __name__ =='__main__':\n",
    "\t#app.debug = True\n",
    "\tapp.run(debug=True, use_reloader=False)\n",
    "\n"
   ]
  },
  {
   "cell_type": "code",
   "execution_count": null,
   "id": "6519321e",
   "metadata": {},
   "outputs": [],
   "source": []
  }
 ],
 "metadata": {
  "kernelspec": {
   "display_name": "Python 3",
   "language": "python",
   "name": "python3"
  },
  "language_info": {
   "codemirror_mode": {
    "name": "ipython",
    "version": 3
   },
   "file_extension": ".py",
   "mimetype": "text/x-python",
   "name": "python",
   "nbconvert_exporter": "python",
   "pygments_lexer": "ipython3",
   "version": "3.8.8"
  }
 },
 "nbformat": 4,
 "nbformat_minor": 5
}
